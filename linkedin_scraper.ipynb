{
 "cells": [
  {
   "cell_type": "code",
   "execution_count": 7,
   "id": "12c53f88",
   "metadata": {},
   "outputs": [
    {
     "name": "stdout",
     "output_type": "stream",
     "text": [
      "Enter the keywords for LinkedIn search: Yash shinde\n",
      "CSV file 'linkedin_profiles1.csv' has been created.\n"
     ]
    }
   ],
   "source": [
    "# Importing required libraries\n",
    "import csv\n",
    "import json\n",
    "import requests\n",
    "\n",
    "# Get keyword input from user\n",
    "keywords = input(\"Enter the keywords for LinkedIn search: \")\n",
    "\n",
    "url = \"https://linkedin-data-scraper.p.rapidapi.com/search_person\"\n",
    "\n",
    "payload = json.dumps({\n",
    "    \"keywords\": keywords,\n",
    "    \"count\": 30\n",
    "})\n",
    "headers = {\n",
    "    'Content-Type': 'application/json',\n",
    "    'X-RapidAPI-Key': '14ae845f86msh4151bcbbaa3f6bfp1c40bfjsn4566014b3ef1',\n",
    "    'X-RapidAPI-Host': 'linkedin-data-scraper.p.rapidapi.com'\n",
    "}\n",
    "\n",
    "response = requests.request(\"POST\", url, headers=headers, data=payload)\n",
    "\n",
    "data = response.json().get('response', [])\n",
    "\n",
    "# Define CSV file name\n",
    "csv_filename = 'linkedin_profiles1.csv'\n",
    "\n",
    "# Define CSV fieldnames\n",
    "fieldnames = ['Name', 'Description', 'Profile Link']   # Required parameters\n",
    "\n",
    "# Write data to CSV file\n",
    "with open(csv_filename, mode='w', newline='', encoding='utf-8') as file:\n",
    "    writer = csv.DictWriter(file, fieldnames=fieldnames)\n",
    "    writer.writeheader()\n",
    "    for item in data:\n",
    "        writer.writerow({\n",
    "            'Name': item.get('fullName', ''),\n",
    "            'Description': f\"{item.get('primarySubtitle', '')}, {item.get('secondarySubtitle', '')}\",\n",
    "            'Profile Link': item.get('navigationUrl', '')\n",
    "        })\n",
    "\n",
    "print(f\"CSV file '{csv_filename}' has been created.\")\n"
   ]
  },
  {
   "cell_type": "code",
   "execution_count": null,
   "id": "7c78e120",
   "metadata": {},
   "outputs": [],
   "source": []
  },
  {
   "cell_type": "code",
   "execution_count": null,
   "id": "0a97b0ec",
   "metadata": {},
   "outputs": [],
   "source": []
  }
 ],
 "metadata": {
  "kernelspec": {
   "display_name": "Python 3 (ipykernel)",
   "language": "python",
   "name": "python3"
  },
  "language_info": {
   "codemirror_mode": {
    "name": "ipython",
    "version": 3
   },
   "file_extension": ".py",
   "mimetype": "text/x-python",
   "name": "python",
   "nbconvert_exporter": "python",
   "pygments_lexer": "ipython3",
   "version": "3.9.12"
  }
 },
 "nbformat": 4,
 "nbformat_minor": 5
}
